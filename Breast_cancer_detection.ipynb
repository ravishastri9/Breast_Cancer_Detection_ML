{
  "nbformat": 4,
  "nbformat_minor": 0,
  "metadata": {
    "colab": {
      "name": "Copy of Breast_cancer_detection.ipynb",
      "provenance": [],
      "collapsed_sections": [],
      "authorship_tag": "ABX9TyMMeA3Zi/+N/QYWVKBPeYis",
      "include_colab_link": true
    },
    "kernelspec": {
      "name": "python3",
      "display_name": "Python 3"
    },
    "language_info": {
      "name": "python"
    }
  },
  "cells": [
    {
      "cell_type": "markdown",
      "metadata": {
        "id": "view-in-github",
        "colab_type": "text"
      },
      "source": [
        "<a href=\"https://colab.research.google.com/github/ravishastri9/Breast_Cancer_Detection_ML/blob/main/Breast_cancer_detection.ipynb\" target=\"_parent\"><img src=\"https://colab.research.google.com/assets/colab-badge.svg\" alt=\"Open In Colab\"/></a>"
      ]
    },
    {
      "cell_type": "markdown",
      "metadata": {
        "id": "dXncV1VQz9GQ"
      },
      "source": [
        "# Importing libraries"
      ]
    },
    {
      "cell_type": "code",
      "metadata": {
        "id": "Z4SQ-9dq0Jna"
      },
      "source": [
        "import numpy as np\n",
        "import matplotlib.pyplot as plt\n",
        "import pandas as pd\n",
        "import seaborn as sns\n"
      ],
      "execution_count": 14,
      "outputs": []
    },
    {
      "cell_type": "markdown",
      "metadata": {
        "id": "RZBgUmCy0kcp"
      },
      "source": [
        "# Importing Dataset"
      ]
    },
    {
      "cell_type": "code",
      "metadata": {
        "id": "3TGv16ZC0pXq"
      },
      "source": [
        "dataset = pd.read_csv('Breast_Cancer.csv')\n",
        "X = dataset.iloc[:, 1:-1].values\n",
        "y = dataset.iloc[:, -1].values"
      ],
      "execution_count": 15,
      "outputs": []
    },
    {
      "cell_type": "markdown",
      "metadata": {
        "id": "7wFjmvH1J3h_"
      },
      "source": [
        "#Get a count of number of Malignant(4) or Benign(2) cells"
      ]
    },
    {
      "cell_type": "code",
      "metadata": {
        "colab": {
          "base_uri": "https://localhost:8080/"
        },
        "id": "8Wwzo9LfIsK4",
        "outputId": "a3cd6ee7-ae93-41a8-caa9-e6ac4cb3a760"
      },
      "source": [
        "dataset['Class'].value_counts()"
      ],
      "execution_count": 16,
      "outputs": [
        {
          "output_type": "execute_result",
          "data": {
            "text/plain": [
              "2    444\n",
              "4    239\n",
              "Name: Class, dtype: int64"
            ]
          },
          "metadata": {},
          "execution_count": 16
        }
      ]
    },
    {
      "cell_type": "markdown",
      "metadata": {
        "id": "bKMg8uomJ62e"
      },
      "source": [
        "#Visualize the count"
      ]
    },
    {
      "cell_type": "code",
      "metadata": {
        "colab": {
          "base_uri": "https://localhost:8080/",
          "height": 296
        },
        "id": "gC_D9ALVJ_1r",
        "outputId": "de87f9e7-5afc-40eb-af68-ecbf69525e38"
      },
      "source": [
        "import warnings\n",
        "warnings.simplefilter(action=\"ignore\", category=FutureWarning)\n",
        "sns.countplot(dataset['Class'], label = 'count')"
      ],
      "execution_count": 25,
      "outputs": [
        {
          "output_type": "execute_result",
          "data": {
            "text/plain": [
              "<matplotlib.axes._subplots.AxesSubplot at 0x7ff69d60e250>"
            ]
          },
          "metadata": {},
          "execution_count": 25
        },
        {
          "output_type": "display_data",
          "data": {
            "image/png": "[encoded data removed]",
            "text/plain": [
              "<Figure size 432x288 with 1 Axes>"
            ]
          },
          "metadata": {
            "needs_background": "light"
          }
        }
      ]
    },
    {
      "cell_type": "markdown",
      "metadata": {
        "id": "ZA1DEYfK5tZ1"
      },
      "source": [
        "# Splitting the dataset into the Training set and Test set"
      ]
    },
    {
      "cell_type": "code",
      "metadata": {
        "id": "cfWFSpC75u3k"
      },
      "source": [
        "from sklearn.model_selection import train_test_split\n",
        "X_train, X_test, y_train, y_test = train_test_split(X, y, test_size = 0.2, random_state = 0)"
      ],
      "execution_count": 18,
      "outputs": []
    },
    {
      "cell_type": "markdown",
      "metadata": {
        "id": "deXwKkjU51dG"
      },
      "source": [
        "# Training the models"
      ]
    },
    {
      "cell_type": "code",
      "metadata": {
        "id": "CQO-S_Kt9m6E"
      },
      "source": [
        "#Create a function for models\n",
        "def models(X_train,y_train):\n",
        "\n",
        "  #K-nearest Neigbors\n",
        "  from sklearn.neighbors import KNeighborsClassifier\n",
        "  knn = KNeighborsClassifier(n_neighbors = 5, metric = 'minkowski', p = 2)\n",
        "  knn.fit(X_train, y_train)\n",
        "\n",
        "  #Support vector Classifier\n",
        "  from sklearn.svm import SVC\n",
        "  svc_lin = SVC(kernel = 'linear', random_state = 0)\n",
        "  svc_lin.fit(X_train, y_train)\n",
        "\n",
        "  #Decision Tree Classifier\n",
        "  from sklearn.tree import DecisionTreeClassifier\n",
        "  tree = DecisionTreeClassifier(criterion = 'entropy', random_state = 0)\n",
        "  tree.fit(X_train, y_train)\n",
        "\n",
        "  #Print the model accuracy on the training data\n",
        "  print('[0] K Nearest Neighbor Training Accuracy:', knn.score(X_train, y_train))\n",
        "  print('[1] Support Vector Machine (Linear Classifier) Training Accuracy:', svc_lin.score(X_train, y_train))\n",
        "  print('[2] Decision Tree Classifier Training Accuracy:', tree.score(X_train, y_train))\n",
        "   \n",
        "  return knn, svc_lin, tree   \n",
        "\n",
        "\n",
        "\n"
      ],
      "execution_count": 19,
      "outputs": []
    },
    {
      "cell_type": "code",
      "metadata": {
        "colab": {
          "base_uri": "https://localhost:8080/"
        },
        "id": "A54TXyfy9beV",
        "outputId": "038a7882-2fe2-48d3-8f83-78275f5f13fb"
      },
      "source": [
        "#Get all of the models\n",
        "model = models(X_train, y_train)"
      ],
      "execution_count": 20,
      "outputs": [
        {
          "output_type": "stream",
          "name": "stdout",
          "text": [
            "[0] K Nearest Neighbor Training Accuracy: 0.9816849816849816\n",
            "[1] Support Vector Machine (Linear Classifier) Training Accuracy: 0.9725274725274725\n",
            "[2] Decision Tree Classifier Training Accuracy: 1.0\n"
          ]
        }
      ]
    },
    {
      "cell_type": "code",
      "metadata": {
        "colab": {
          "base_uri": "https://localhost:8080/"
        },
        "id": "rie4_pgeA9_k",
        "outputId": "935dd117-7aba-4a8d-d6b8-02d3031fb85a"
      },
      "source": [
        "#Confusion matrix on testing data\n",
        "from sklearn.metrics import confusion_matrix\n",
        "\n",
        "for i in range(len(model)):\n",
        "  print('Model',i)\n",
        "  cm = confusion_matrix(y_test, model[i].predict(X_test))\n",
        "\n",
        "  TP = cm[0][0]\n",
        "  TN = cm[1][1]\n",
        "  FN = cm[1][0]\n",
        "  FP = cm[0][1]\n",
        "\n",
        "  print(cm)\n",
        "  print('Testing accuracy = ', (TP + TN)/ (TP + TN + FN + FP))\n",
        "  print()"
      ],
      "execution_count": 21,
      "outputs": [
        {
          "output_type": "stream",
          "name": "stdout",
          "text": [
            "Model 0\n",
            "[[84  3]\n",
            " [ 1 49]]\n",
            "Testing accuracy =  0.9708029197080292\n",
            "\n",
            "Model 1\n",
            "[[83  4]\n",
            " [ 2 48]]\n",
            "Testing accuracy =  0.9562043795620438\n",
            "\n",
            "Model 2\n",
            "[[84  3]\n",
            " [ 3 47]]\n",
            "Testing accuracy =  0.9562043795620438\n",
            "\n"
          ]
        }
      ]
    },
    {
      "cell_type": "markdown",
      "metadata": {
        "id": "-_Ueth6yGu5q"
      },
      "source": [
        "#Show other ways to get the classification accuracy & other metrics "
      ]
    },
    {
      "cell_type": "code",
      "metadata": {
        "colab": {
          "base_uri": "https://localhost:8080/"
        },
        "id": "XPL40fVIGpKX",
        "outputId": "b22207a0-2034-4090-f1d8-66e7ba3d988f"
      },
      "source": [
        "from sklearn.metrics import classification_report\n",
        "from sklearn.metrics import accuracy_score\n",
        "\n",
        "for i in range(len(model)):\n",
        "  print('Model',i)\n",
        "  print( classification_report(y_test, model[i].predict(X_test)))\n",
        "  print( accuracy_score(y_test, model[i].predict(X_test)))\n",
        "  print()"
      ],
      "execution_count": 22,
      "outputs": [
        {
          "output_type": "stream",
          "name": "stdout",
          "text": [
            "Model 0\n",
            "              precision    recall  f1-score   support\n",
            "\n",
            "           2       0.99      0.97      0.98        87\n",
            "           4       0.94      0.98      0.96        50\n",
            "\n",
            "    accuracy                           0.97       137\n",
            "   macro avg       0.97      0.97      0.97       137\n",
            "weighted avg       0.97      0.97      0.97       137\n",
            "\n",
            "0.9708029197080292\n",
            "\n",
            "Model 1\n",
            "              precision    recall  f1-score   support\n",
            "\n",
            "           2       0.98      0.95      0.97        87\n",
            "           4       0.92      0.96      0.94        50\n",
            "\n",
            "    accuracy                           0.96       137\n",
            "   macro avg       0.95      0.96      0.95       137\n",
            "weighted avg       0.96      0.96      0.96       137\n",
            "\n",
            "0.9562043795620438\n",
            "\n",
            "Model 2\n",
            "              precision    recall  f1-score   support\n",
            "\n",
            "           2       0.97      0.97      0.97        87\n",
            "           4       0.94      0.94      0.94        50\n",
            "\n",
            "    accuracy                           0.96       137\n",
            "   macro avg       0.95      0.95      0.95       137\n",
            "weighted avg       0.96      0.96      0.96       137\n",
            "\n",
            "0.9562043795620438\n",
            "\n"
          ]
        }
      ]
    }
  ]
}